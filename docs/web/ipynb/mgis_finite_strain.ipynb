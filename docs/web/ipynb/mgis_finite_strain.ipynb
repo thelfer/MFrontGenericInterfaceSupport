{
 "cells": [
  {
   "cell_type": "markdown",
   "metadata": {},
   "source": [
    "# Interacting with a finite-strain MFront behaviour\n",
    "\n",
    "*Author: Jeremy Bleyer, ENPC*\n",
    "\n",
    "## Objectives \n",
    "\n",
    "This notebook shows how we can use the Python [`MFrontGenericSupportInterface`](https://thelfer.github.io/mgis/web/index.html) to interact with a finite-strain mechanical behaviour compiled with MFront.\n",
    "\n",
    "The corresponding behaviour is a finite-strain elastoplastic behaviour formulated in the framework of logarithmic strains (Hencky strain measure). Such finite-strain behaviours offer the advantage of using the same implementation as the small-strain case, except that strains are now formulated with Hencky strain measures ($\\boldsymbol{H}=\\boldsymbol{H}^\\text{e}+\\boldsymbol{H}^\\text{p}$) instead of the linearized strain ($\\boldsymbol{\\varepsilon}=\\boldsymbol{\\varepsilon}^\\text{e}+\\boldsymbol{\\varepsilon}^\\text{p}$). The small-strain elastoplastic component is  the same as in the companion [small-strain demo](mgis_small_strain.ipynb).\n",
    "\n",
    "The following implementation shows:\n",
    "- how to read information from the compiled behaviour, such as the declared internal state variable names or material properties\n",
    "- how to ask for specific stress measures and tangent operator forms\n",
    "- how to set up material properties\n",
    "- how to impose values for the deformation gradient, call the behaviour integration for a batch of quadrature points and update the mechanical state for subsequent time steps\n",
    "- how to locally solve a non-linear system involving the computed tangent operator\n",
    "\n",
    "## Problem setting\n",
    "\n",
    "Similarly to the small-strain demo, we aim to solve for a uniaxial stress state along the $x$ direction, while controlling the imposed horizontal strain $\\epsilon$. In finite-strain the main deformation measure is the deformation gradient $\\boldsymbol{F}$. We thus impose an horizontal elongation $F_{xx}=1+\\epsilon$, the 8 ($\\boldsymbol{F}$ is non-symmetric) remaining components $F_{ij}$ are considered as unknowns and we want to solve the following problem at a given imposed horizontal strain: Find $\\boldsymbol{F}$ such that\n",
    "$$\n",
    "\\boldsymbol{R}(\\boldsymbol{F}) = \\begin{Bmatrix}\n",
    "F_{xx} - 1-\\epsilon \\\\\n",
    "P_{yy}(\\boldsymbol{F}) \\\\\n",
    "P_{zz}(\\boldsymbol{F}) \\\\\n",
    "P_{xy}(\\boldsymbol{F}) \\\\\n",
    "P_{yx}(\\boldsymbol{F}) \\\\\n",
    "P_{xz}(\\boldsymbol{F}) \\\\\n",
    "P_{zx}(\\boldsymbol{F}) \\\\\n",
    "P_{yz}(\\boldsymbol{F}) \\\\\n",
    "P_{zy}(\\boldsymbol{F})\n",
    "\\end{Bmatrix} = 0\n",
    "$$\n",
    "where $\\boldsymbol{P}$ is here the 1st Piola-Kirchhoff stress. \n",
    "\n",
    "To solve this non-linear problem, we write a custom Newton-Raphson method which will involve the following $9x9$ jacobian:\n",
    "$$\n",
    "\\boldsymbol{J} = \\dfrac{\\partial \\boldsymbol{R}}{\\partial \\boldsymbol{F}} = \\begin{bmatrix} \n",
    "\\begin{bmatrix} 1 & 0 & \\ldots & 0\\end{bmatrix}\\\\\n",
    "\\bar{C}_\\text{tang}\n",
    "\\end{bmatrix}\n",
    "$$\n",
    "where $\\bar{\\boldsymbol{C}}_\\text{tang}$ is the sub-matrix obtained by removing the first row from the tangent stiffness $\\boldsymbol{C}_\\text{tang} = \\dfrac{\\partial \\boldsymbol{P}}{\\partial \\boldsymbol{F}}$.\n",
    "\n",
    "\n",
    "Note that $\\boldsymbol{P}$ is also non-symmetric. However, the formulated behaviour will necessary satisfy balance of angular momentum and will produce stress states satisfying $\\boldsymbol{P} = \\boldsymbol{F}\\boldsymbol{S}$ where $\\boldsymbol{S}$ is the 2nd Piola-Kirchhoff stress with $\\boldsymbol{S}$ being symmetric. Hence, by construction $\\boldsymbol{P}\\boldsymbol{F}^{\\text{T}}=\\boldsymbol{F}\\boldsymbol{P}^{\\text{T}}$. This property introduces linearly dependent equation in the above nonlinear system, resulting in a singular $9x9$ Jacobian matrix. To circumvent this issue, we will simply solve the Newton iterations in the least-square sense.\n",
    "\n",
    "\n",
    "In the following, we will compute the behaviour integration and the above non-linear resolution for a batch of `ngauss` points for illustration purposes. For simplicity, we will impose the same strain $\\epsilon$ for all points, yielding the same response for all points but different strain values could also be considered for the different material points."
   ]
  },
  {
   "cell_type": "markdown",
   "metadata": {},
   "source": [
    "## Implementation\n",
    "\n",
    "### Compiling the behaviour\n",
    "\n",
    "First, we call the `mfront --obuild --interface=generic LogarithmicStrainPlasticity.mfront` command to compile the MFront behaviour. This should only be done once and for all if the behaviour implementation does not change anymore.\n",
    "\n",
    "Shared libraries are then stored in the `src/libBehaviour.so` file which will be used to load the behaviour."
   ]
  },
  {
   "cell_type": "code",
   "execution_count": 1,
   "metadata": {
    "scrolled": true
   },
   "outputs": [
    {
     "name": "stdout",
     "output_type": "stream",
     "text": [
      "Treating target : all\n",
      "The following library has been built :\n",
      "- libBehaviour.so :  LogarithmicStrainPlasticity_AxisymmetricalGeneralisedPlaneStrain LogarithmicStrainPlasticity_Axisymmetrical LogarithmicStrainPlasticity_PlaneStrain LogarithmicStrainPlasticity_GeneralisedPlaneStrain LogarithmicStrainPlasticity_Tridimensional SmallStrainPlasticity_AxisymmetricalGeneralisedPlaneStrain SmallStrainPlasticity_Axisymmetrical SmallStrainPlasticity_PlaneStrain SmallStrainPlasticity_GeneralisedPlaneStrain SmallStrainPlasticity_Tridimensional\n"
     ]
    }
   ],
   "source": [
    "import subprocess\n",
    "import numpy as np\n",
    "import mgis.behaviour as mgis_bv\n",
    "\n",
    "\n",
    "behaviour_name = \"LogarithmicStrainPlasticity\"\n",
    "subprocess.call([\"mfront\", \"--obuild\", \"--interface=generic\", behaviour_name+\".mfront\"])\n",
    "\n",
    "lib_path = \"src/libBehaviour.so\""
   ]
  },
  {
   "cell_type": "markdown",
   "metadata": {},
   "source": [
    "### Loading the behaviour\n",
    "\n",
    "We first need to choose the modeling hypothesis. Here, we will work with 3D states and thus choose the `Tridimensional` hypothesis. Behaviours are loaded differently depending on whether we work with a small or finite-strain setting. We use the `isStandardFiniteStrainBehaviour` function to check whether the behaviour is finite strain or not. For the present finite-strain case, we can specify options asking which stress measure we want the behaviour to return, we can for instance choose the Cauchy (`CAUCHY`) stress $\\boldsymbol{\\sigma}$, the 1st Piola-Kirchhoff stress (`PK1`) $\\boldsymbol{P}$ or the 2nd Piola-Kirchhoff stress (`PK2`) $\\boldsymbol{S}$. We choose the PK1 stress $\\boldsymbol{P}$ here. SImilarly, we can ask for specific variants of the tangent operators such as:\n",
    "$$\n",
    "\\begin{align*}\n",
    "\\texttt{DCAUCHY\\_DF}/\\texttt{DSIG\\_DF}:\\qquad & \\dfrac{\\partial\\boldsymbol{\\sigma}}{\\partial \\boldsymbol{F}}\\\\\n",
    "\\texttt{DPK1\\_DF}:\\qquad & \\dfrac{\\partial\\boldsymbol{P}}{\\partial \\boldsymbol{F}}\\\\\n",
    "\\texttt{DS\\_DEGL}:\\qquad & \\dfrac{\\partial\\boldsymbol{S}}{\\partial \\boldsymbol{E}^\\text{GL}}\\\\\n",
    "\\texttt{DTAU\\_DDF}:\\qquad & \\dfrac{\\partial\\boldsymbol{\\tau}}{\\partial \\boldsymbol{D}}\\\\\n",
    "\\end{align*}\n",
    "$$\n",
    "where $\\boldsymbol{E}^\\text{GL}$ is the Green-Lagrange strain, $\\boldsymbol{\\tau}$ the Kirchhoff stress and $\\Delta\\,\\boldsymbol{F}$$ is given by $\\left.\\boldsymbol{F}\\right|_{t+dt}\\,\\cdot\\,\\left.\\boldsymbol{F}\\right|_{t}^{-1}$$.\n"
   ]
  },
  {
   "cell_type": "code",
   "execution_count": 2,
   "metadata": {},
   "outputs": [
    {
     "name": "stdout",
     "output_type": "stream",
     "text": [
      "Finite strain behaviour detected.\n"
     ]
    }
   ],
   "source": [
    "hypothesis = mgis_bv.Hypothesis.Tridimensional\n",
    "\n",
    "is_finite_strain = mgis_bv.isStandardFiniteStrainBehaviour(lib_path, behaviour_name)\n",
    "if is_finite_strain:\n",
    "    print(\"Finite strain behaviour detected.\")\n",
    "    bopts = mgis_bv.FiniteStrainBehaviourOptions()\n",
    "    bopts.stress_measure = mgis_bv.FiniteStrainBehaviourOptionsStressMeasure.PK1\n",
    "    bopts.tangent_operator = (\n",
    "        mgis_bv.FiniteStrainBehaviourOptionsTangentOperator.DPK1_DF\n",
    "    )\n",
    "    behaviour = mgis_bv.load(bopts, lib_path, behaviour_name, hypothesis)\n",
    "else:\n",
    "    print(\"Small strain behaviour detected.\")\n",
    "    behaviour = mgis_bv.load(lib_path, behaviour_name, hypothesis)"
   ]
  },
  {
   "cell_type": "markdown",
   "metadata": {},
   "source": [
    "The `Behaviour` object now contains several information about the behaviour implementation such as names and types of gradients and thermodynamic forces and external or internal state variables. Here, we work with a purely mechanical behaviour so that gradients consist only of the total deformation gradient `DeformationGradient`. The resulting thermodynamic stress is `FirstPiolaKirchhoffStress`. By default, `Temperature` is always declared as an external state variable by MFront. Finally, since we are dealing with an elastoplastic behaviour with isotropic hardening, the internal state variables are the `ElasticStrain` and the `EquivalentPlasticStrain`. The former is a symmetric tensor whereas the latter is only a scalar."
   ]
  },
  {
   "cell_type": "code",
   "execution_count": null,
   "metadata": {},
   "outputs": [
    {
     "name": "stdout",
     "output_type": "stream",
     "text": [
      "Kinematic type: F_CAUCHY\n",
      "Gradient names: ['DeformationGradient']\n",
      "Thermodynamic forces names: ['FirstPiolaKirchhoffStress']\n",
      "External state variable names: ['Temperature']\n",
      "Internal state variable names: ['ElasticStrain', 'EquivalentPlasticStrain']\n",
      "Internal state variable types: [mgis.behaviour.VariableType.STENSOR, mgis.behaviour.VariableType.SCALAR]\n"
     ]
    }
   ],
   "source": [
    "print(\"Kinematic type:\", behaviour.getKinematic())\n",
    "print(\"Gradient names:\",[s.name for s in behaviour.gradients])\n",
    "print(\"Thermodynamic forces names:\", [s.name for s in behaviour.thermodynamic_forces])\n",
    "\n",
    "print(\"External state variable names:\",  [s.name for s in behaviour.external_state_variables])\n",
    "print(\n",
    "    \"Internal state variable names:\",\n",
    "    [s.name for s in behaviour.internal_state_variables],\n",
    ")\n",
    "print(\n",
    "    \"Internal state variable types:\",\n",
    "    [s.type for s in behaviour.internal_state_variables],\n",
    ")"
   ]
  },
  {
   "cell_type": "markdown",
   "metadata": {},
   "source": [
    "The size of these different quantities can be checked. Non-symmetric tensors in 3D are represented here as arrays of size 9, see [Tensors in MFront](https://thelfer.github.io/tfel/web/tensors.html)."
   ]
  },
  {
   "cell_type": "code",
   "execution_count": null,
   "metadata": {},
   "outputs": [
    {
     "name": "stdout",
     "output_type": "stream",
     "text": [
      "DeformationGradient is of size 9\n",
      "FirstPiolaKirchhoffStress is of size 9\n",
      "ElasticStrain is of size 6\n",
      "EquivalentPlasticStrain is of size 1\n"
     ]
    }
   ],
   "source": [
    "for s in behaviour.gradients + behaviour.thermodynamic_forces + behaviour.internal_state_variables: \n",
    "    print(f\"{s.name} is of size {mgis_bv.getVariableSize(s, hypothesis)}\")"
   ]
  },
  {
   "cell_type": "markdown",
   "metadata": {},
   "source": [
    "For more complex behaviours, different \"blocks\" of tangent operators can be declared and computed. The names of the tangent blocks can be retrieved as shown below. Here, we have a simple mechanical behaviour so that the only tangent operator is the tangent stiffness $\\boldsymbol{C}_\\text{tang} = \\dfrac{\\partial \\boldsymbol{P}}{\\partial \\boldsymbol{F}}$, as specified earlier."
   ]
  },
  {
   "cell_type": "code",
   "execution_count": 5,
   "metadata": {},
   "outputs": [
    {
     "name": "stdout",
     "output_type": "stream",
     "text": [
      "Tangent operator block names: ['dFirstPiolaKirchhoffStress_dDeformationGradient']\n"
     ]
    }
   ],
   "source": [
    "print(\n",
    "    \"Tangent operator block names:\",\n",
    "    [f\"d{s[0].name}_d{s[1].name}\" for s in behaviour.tangent_operator_blocks],\n",
    ")"
   ]
  },
  {
   "cell_type": "markdown",
   "metadata": {},
   "source": [
    "Finally, names of material properties can also be retrieved easily as follows:"
   ]
  },
  {
   "cell_type": "code",
   "execution_count": 6,
   "metadata": {},
   "outputs": [
    {
     "name": "stdout",
     "output_type": "stream",
     "text": [
      "Material property names: ['InitialYieldStress', 'FinalYieldStress', 'HardeningCoefficient']\n"
     ]
    }
   ],
   "source": [
    "print(\n",
    "    \"Material property names:\",\n",
    "    [s.name for s in behaviour.material_properties],\n",
    ")"
   ]
  },
  {
   "cell_type": "markdown",
   "metadata": {},
   "source": [
    "Other informations such as behaviour material symmetry or predefined parameters can also be obtained as follows:"
   ]
  },
  {
   "cell_type": "code",
   "execution_count": 7,
   "metadata": {},
   "outputs": [
    {
     "name": "stdout",
     "output_type": "stream",
     "text": [
      "Isotropic\n",
      "['epsilon', 'theta', 'YoungModulus', 'PoissonRatio', 'RelativeValueForTheEquivalentStressLowerBoundDefinition', 'minimal_time_step_scaling_factor', 'maximal_time_step_scaling_factor', 'numerical_jacobian_epsilon']\n"
     ]
    }
   ],
   "source": [
    "print(behaviour.symmetry)\n",
    "print(behaviour.parameters)"
   ]
  },
  {
   "cell_type": "markdown",
   "metadata": {},
   "source": [
    "### Setting up the material data manager\n",
    "\n",
    "The material data manager will be the data structure which will hold the information about the mechanical state and tangent operator for a single or a batch of integration points during a given time step. We first set up the data manager by declaring the number of integration points we want to handle."
   ]
  },
  {
   "cell_type": "code",
   "execution_count": 8,
   "metadata": {},
   "outputs": [],
   "source": [
    "ngauss = 3\n",
    "data = mgis_bv.MaterialDataManager(behaviour, ngauss)"
   ]
  },
  {
   "cell_type": "markdown",
   "metadata": {},
   "source": [
    "Values at the beginning of the time step will be stored in `data.s0`. This object is a `StateManager` which holds values of the gradients, thermodynamic forces and internal state variables. A similar one is stored in `data.s1` which will hold values at the end of the current time step, once behaviour integration has been performed. Here, by default, `DeformationGradient` is initialized with the identity tensor, all other variables at initialized at zero. We see below that `data.s0.gradients` is of shape `ngauss x 9` corresponding to the 9 components of the `ngauss` integration points."
   ]
  },
  {
   "cell_type": "code",
   "execution_count": 9,
   "metadata": {},
   "outputs": [
    {
     "name": "stdout",
     "output_type": "stream",
     "text": [
      "Gradients:\n",
      "  Beginning of time step:\n",
      " [[1. 1. 1. 0. 0. 0. 0. 0. 0.]\n",
      " [1. 1. 1. 0. 0. 0. 0. 0. 0.]\n",
      " [1. 1. 1. 0. 0. 0. 0. 0. 0.]]\n",
      "  End of time step:\n",
      " [[1. 1. 1. 0. 0. 0. 0. 0. 0.]\n",
      " [1. 1. 1. 0. 0. 0. 0. 0. 0.]\n",
      " [1. 1. 1. 0. 0. 0. 0. 0. 0.]]\n",
      "Thermodynamic forces:\n",
      "  Beginning of time step:\n",
      " [[0. 0. 0. 0. 0. 0. 0. 0. 0.]\n",
      " [0. 0. 0. 0. 0. 0. 0. 0. 0.]\n",
      " [0. 0. 0. 0. 0. 0. 0. 0. 0.]]\n",
      "  End of time step:\n",
      " [[0. 0. 0. 0. 0. 0. 0. 0. 0.]\n",
      " [0. 0. 0. 0. 0. 0. 0. 0. 0.]\n",
      " [0. 0. 0. 0. 0. 0. 0. 0. 0.]]\n"
     ]
    }
   ],
   "source": [
    "print(\"Gradients:\")\n",
    "print(\"  Beginning of time step:\\n\", data.s0.gradients)\n",
    "print(\"  End of time step:\\n\", data.s1.gradients)\n",
    "\n",
    "print(\"Thermodynamic forces:\")\n",
    "print(\"  Beginning of time step:\\n\", data.s0.thermodynamic_forces)\n",
    "print(\"  End of time step:\\n\", data.s1.thermodynamic_forces)"
   ]
  },
  {
   "cell_type": "markdown",
   "metadata": {},
   "source": [
    "Conversely, internal state variables are of shape `ngauss x 7` with components of `ElasticStrain` and `EquivalentPlasticStrain` being concatenated."
   ]
  },
  {
   "cell_type": "code",
   "execution_count": 10,
   "metadata": {},
   "outputs": [
    {
     "name": "stdout",
     "output_type": "stream",
     "text": [
      "Internal state variables:\n",
      "  Beginning of time step:\n",
      " [[0. 0. 0. 0. 0. 0. 0.]\n",
      " [0. 0. 0. 0. 0. 0. 0.]\n",
      " [0. 0. 0. 0. 0. 0. 0.]]\n",
      "  End of time step:\n",
      " [[0. 0. 0. 0. 0. 0. 0.]\n",
      " [0. 0. 0. 0. 0. 0. 0.]\n",
      " [0. 0. 0. 0. 0. 0. 0.]]\n"
     ]
    }
   ],
   "source": [
    "print(\"Internal state variables:\")\n",
    "print(\"  Beginning of time step:\\n\", data.s0.internal_state_variables)\n",
    "print(\"  End of time step:\\n\", data.s1.internal_state_variables)"
   ]
  },
  {
   "cell_type": "markdown",
   "metadata": {},
   "source": [
    "### Declare material properties\n",
    "\n",
    "In order to perform the behaviour integration, we need to declare the values for the material properties which are yet unspecified. We also need to declare the value of the temperature, although it is not used in practice. Note that we can declare different values at the beginning and at the end of the time step, although here we use the same values. Finally, we would also apply different values for the different integration points, if needed."
   ]
  },
  {
   "cell_type": "code",
   "execution_count": 11,
   "metadata": {},
   "outputs": [],
   "source": [
    "for state_manager in [data.s0, data.s1]:\n",
    "    mgis_bv.setMaterialProperty(state_manager, \"InitialYieldStress\", 250e6)\n",
    "    mgis_bv.setMaterialProperty(state_manager, \"FinalYieldStress\", 400e6)\n",
    "    mgis_bv.setMaterialProperty(state_manager, \"HardeningCoefficient\", 1000.)\n",
    "\n",
    "    mgis_bv.setExternalStateVariable(state_manager, \"Temperature\", 293.15)\n"
   ]
  },
  {
   "cell_type": "markdown",
   "metadata": {},
   "source": [
    "### Defining the load-stepping scheme and the nonlinear system \n",
    "\n",
    "Below, we will impose a cyclic loading in terms of imposed horizontal strain. The value of the time step `dt` must be provided but is irrelevant here since we are dealing with a rate-independent behaviour."
   ]
  },
  {
   "cell_type": "code",
   "execution_count": 12,
   "metadata": {},
   "outputs": [],
   "source": [
    "# strain history\n",
    "N = 20\n",
    "eps_max = 3e-3\n",
    "eps_list = np.concatenate((np.linspace(0, eps_max, N), np.linspace(eps_max, -eps_max, N), np.linspace(-eps_max, 0, N))*2)\n",
    "lambda_list = 1 + eps_list\n",
    "\n",
    "dt = 0"
   ]
  },
  {
   "cell_type": "markdown",
   "metadata": {},
   "source": [
    "We now implement the expression of the global residual $\\boldsymbol{R}$ and its jacobian $\\boldsymbol{J}$. As stresses are expressed here in Pa, we use a scaling of `1e-9` to scale the stress components to values close to strain values."
   ]
  },
  {
   "cell_type": "code",
   "execution_count": 13,
   "metadata": {},
   "outputs": [],
   "source": [
    "stress_scaling = 1e-9\n",
    "def residual(F, P, lamb):\n",
    "    return np.concatenate((F[:, [0]] - lamb, P[:, 1:] * stress_scaling), axis=1)\n",
    "def jacobian(F, P, Ct):\n",
    "    Jac = np.zeros((ngauss, 9, 9))\n",
    "    Jac[:,0,0] = 1\n",
    "    Jac[:,1:,:] = Ct[:,1:,:]*stress_scaling\n",
    "    return Jac"
   ]
  },
  {
   "cell_type": "markdown",
   "metadata": {},
   "source": [
    "Integration of the material behaviour will be done by specifying that we want to compute the consistent tangent operator. \n",
    "We then implement the time stepping loop and the Newton-Raphson resolution. We recall that the values of the total deformation gradient are all assumed to be unknown and will be stored in the `F` variable, the latter being initialized with the deformation gradient values at the beginning of the time step. During a Newton-Raphson iteration, the deformation gradient values at the end of the time step are updated with the current value for `F`. Then, integration is performed using `mgis_bv.integrate`. Next, we retrieve the new value for the stress, stored in `P` and of the tangent operator, stored in `Ct`. We evaluate the residual $\\boldsymbol{R}$ and perform the Newton correction to `eps` by solving the jacobian system (in the least square sense as discussed above). Finally, we report the horizontal stress value at the first integration point (we can check that all `ngauss` points give the same value). Before going to the next load step, the computed state must be updated using `mgis_bv.update(data)` which copies the computed state `s1` into `s0`."
   ]
  },
  {
   "cell_type": "code",
   "execution_count": 14,
   "metadata": {},
   "outputs": [],
   "source": [
    "integration_type = mgis_bv.IntegrationType.IntegrationWithConsistentTangentOperator\n",
    "rtol = 1e-8\n",
    "atol = 1e-8\n",
    "niter_max = 20\n",
    "\n",
    "Sxx = np.zeros_like(lambda_list)\n",
    "for i, lamb_imposed in enumerate(lambda_list):\n",
    "    F = np.copy(data.s0.gradients)\n",
    "    P = np.copy(data.s0.thermodynamic_forces)\n",
    "\n",
    "    # Newton-Raphson solve\n",
    "    nres = 1\n",
    "    nres0 = max(np.linalg.norm(residual(F, P, lamb_imposed),axis=1))\n",
    "    niter = 0\n",
    "    while (nres > max(atol, rtol*nres0)) and (niter < niter_max):\n",
    "        data.s1.gradients[:] = F\n",
    "\n",
    "        integration_status = mgis_bv.integrate(data, integration_type, dt, 0, data.n)\n",
    "        assert integration_status > 0, \"Behaviour integration has failed.\"\n",
    "\n",
    "        P = data.s1.thermodynamic_forces\n",
    "        Ct = data.K\n",
    "\n",
    "        res = residual(F, P, lamb_imposed)\n",
    "        nres = max(np.linalg.norm(res, axis=1))\n",
    "        # print(f\"Iteration {niter}, residual = {nres}\")\n",
    "\n",
    "        Jac = jacobian(F, P, Ct)\n",
    "        for k in range(ngauss):\n",
    "            F[k,:] += np.linalg.lstsq(Jac[k,:,:], -res[k,:])[0]\n",
    "\n",
    "        niter += 1\n",
    "\n",
    "    Sxx[i] = data.s1.thermodynamic_forces[0, 0]\n",
    "    \n",
    "    mgis_bv.update(data)"
   ]
  },
  {
   "cell_type": "markdown",
   "metadata": {},
   "source": [
    "Plotting the horizontal stress strain evolutions shows the expected behaviour with a first yielding at 250 MPa and a saturation at 400 MPa in both tension and compression. Note that we do not observe much difference here compared to the small-strain case because of the chosen material properties and strain levels."
   ]
  },
  {
   "cell_type": "code",
   "execution_count": 15,
   "metadata": {},
   "outputs": [
    {
     "data": {
      "image/png": "[encoded data removed]",
      "text/plain": [
       "<Figure size 640x480 with 1 Axes>"
      ]
     },
     "metadata": {},
     "output_type": "display_data"
    }
   ],
   "source": [
    "import matplotlib.pyplot as plt\n",
    "plt.xlabel(r\"Horizontal elongation $F_{xx}-1$\")\n",
    "plt.ylabel(r\"Horizontal nominal stress $P_{xx}$ [MPa]\")\n",
    "plt.plot(eps_list, Sxx*1e-6, '-o')\n",
    "plt.xlim(-1.2*eps_max, 1.2*eps_max)\n",
    "plt.ylim(-500, 500)\n",
    "plt.show()"
   ]
  }
 ],
 "metadata": {
  "kernelspec": {
   "display_name": "fenicsx-v0.9",
   "language": "python",
   "name": "python3"
  },
  "language_info": {
   "codemirror_mode": {
    "name": "ipython",
    "version": 3
   },
   "file_extension": ".py",
   "mimetype": "text/x-python",
   "name": "python",
   "nbconvert_exporter": "python",
   "pygments_lexer": "ipython3",
   "version": "3.11.11"
  }
 },
 "nbformat": 4,
 "nbformat_minor": 4
}
