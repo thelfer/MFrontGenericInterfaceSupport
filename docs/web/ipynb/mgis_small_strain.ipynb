{
 "cells": [
  {
   "cell_type": "markdown",
   "metadata": {},
   "source": [
    "# Interacting with a small-strain MFront behaviour\n",
    "\n",
    "*Author: Jeremy Bleyer, ENPC*\n",
    "\n",
    "## Objectives \n",
    "\n",
    "This notebook shows how we can use the Python [`MFrontGenericSupportInterface`](https://thelfer.github.io/mgis/web/index.html) to interact with a small-strain mechanical behaviour compiled with MFront.\n",
    "\n",
    "The corresponding behaviour is a small-strain von Mises plasticity model with non-linear isotropic hardening and is implemented in the `SmallStrainPlasticity.mfront` file using the [`StandardElastoViscoPlasticity` brick](https://thelfer.github.io/tfel/web/StandardElastoViscoPlasticityBrick.html). Some material parameters (elastic parameters) are hard-coded in the file while others (plastic parameters) are declared as material properties to be specified by the user.\n",
    "\n",
    "The following implementation shows:\n",
    "- how to read information from the compiled behaviour, such as the declared internal state variable names or material properties\n",
    "- how to set up material properties\n",
    "- how to impose values for the total strain, call the behaviour integration for a batch of quadrature points and update the mechanical state for subsequent time steps\n",
    "- how to locally solve a non-linear system involving the computed tangent operator\n",
    "\n",
    "## Problem setting\n",
    "\n",
    "Regarding the final point, we aim to solve for a uniaxial stress state along the $x$ direction, while controlling the imposed horizontal strain $\\epsilon$. The remaining components $\\varepsilon_{ij}$ are considered as unknowns and we want to solve the following problem at a given imposed horizontal strain: Find $\\boldsymbol{\\varepsilon}$ such that\n",
    "$$\n",
    "\\boldsymbol{R}(\\boldsymbol{\\varepsilon}) = \\begin{Bmatrix}\n",
    "\\varepsilon_{xx} - \\epsilon \\\\\n",
    "\\sigma_{yy}(\\boldsymbol{\\varepsilon}) \\\\\n",
    "\\sigma_{zz}(\\boldsymbol{\\varepsilon}) \\\\\n",
    "\\sigma_{xy}(\\boldsymbol{\\varepsilon}) \\\\\n",
    "\\sigma_{xz}(\\boldsymbol{\\varepsilon}) \\\\\n",
    "\\sigma_{yz}(\\boldsymbol{\\varepsilon})\n",
    "\\end{Bmatrix} = 0\n",
    "$$\n",
    "\n",
    "To solve this non-linear problem, we write a custom Newton-Raphson method which will involve the following jacobian:\n",
    "$$\n",
    "\\boldsymbol{J} = \\dfrac{\\partial \\boldsymbol{R}}{\\partial \\boldsymbol{\\varepsilon}} = \\begin{bmatrix} \n",
    "\\begin{bmatrix} 1 & 0 & \\ldots & 0\\end{bmatrix}\\\\\n",
    "\\bar{C}_\\text{tang}\n",
    "\\end{bmatrix}\n",
    "$$\n",
    "where $\\bar{\\boldsymbol{C}}_\\text{tang}$ is the sub-matrix obtained by removing the first row from the tangent stiffness $\\boldsymbol{C}_\\text{tang} = \\dfrac{\\partial \\boldsymbol{\\sigma}}{\\partial \\boldsymbol{\\varepsilon}}$.\n",
    "\n",
    "In the following, we will compute the behaviour integration and the above non-linear resolution for a batch of `ngauss` points for illustration purposes. For simplicity, we will impose the same strain $\\epsilon$ for all points, yielding the same response for all points but different strain values could also be considered for the different material points."
   ]
  },
  {
   "cell_type": "markdown",
   "metadata": {},
   "source": [
    "## Implementation\n",
    "\n",
    "### Compiling the behaviour\n",
    "\n",
    "First, we call the `mfront --obuild --interface=generic SmallStrainPlasticity.mfront` command to compile the MFront behaviour. This should only be done once and for all if the behaviour implementation does not change anymore.\n",
    "\n",
    "Shared libraries are then stored in the `src/libBehaviour.so` file which will be used to load the behaviour."
   ]
  },
  {
   "cell_type": "code",
   "execution_count": 1,
   "metadata": {
    "scrolled": true
   },
   "outputs": [
    {
     "name": "stdout",
     "output_type": "stream",
     "text": [
      "Treating target : all\n",
      "The following library has been built :\n",
      "- libBehaviour.so :  LogarithmicStrainPlasticity_AxisymmetricalGeneralisedPlaneStrain LogarithmicStrainPlasticity_Axisymmetrical LogarithmicStrainPlasticity_PlaneStrain LogarithmicStrainPlasticity_GeneralisedPlaneStrain LogarithmicStrainPlasticity_Tridimensional SmallStrainPlasticity_AxisymmetricalGeneralisedPlaneStrain SmallStrainPlasticity_Axisymmetrical SmallStrainPlasticity_PlaneStrain SmallStrainPlasticity_GeneralisedPlaneStrain SmallStrainPlasticity_Tridimensional\n"
     ]
    }
   ],
   "source": [
    "import subprocess\n",
    "import numpy as np\n",
    "import mgis.behaviour as mgis_bv\n",
    "\n",
    "behaviour_name = \"SmallStrainPlasticity\"\n",
    "subprocess.call([\"mfront\", \"--obuild\", \"--interface=generic\", behaviour_name+\".mfront\"]);\n",
    "\n",
    "lib_path = \"src/libBehaviour.so\""
   ]
  },
  {
   "cell_type": "markdown",
   "metadata": {},
   "source": [
    "### Loading the behaviour\n",
    "\n",
    "We first need to choose the modeling hypothesis. Here, we will work with 3D states and thus choose the `Tridimensional` hypothesis. Behaviours are loaded differently depending on whether we work with a small or finite-strain setting. We use the `isStandardFiniteStrainBehaviour` function to check whether the behaviour is finite strain or not. The finite-strain case is described in another demo."
   ]
  },
  {
   "cell_type": "code",
   "execution_count": 2,
   "metadata": {},
   "outputs": [
    {
     "name": "stdout",
     "output_type": "stream",
     "text": [
      "Small strain behaviour detected.\n"
     ]
    }
   ],
   "source": [
    "hypothesis = mgis_bv.Hypothesis.Tridimensional\n",
    "\n",
    "is_finite_strain = mgis_bv.isStandardFiniteStrainBehaviour(lib_path, behaviour_name)\n",
    "if is_finite_strain:\n",
    "    print(\"Finite strain behaviour detected.\")\n",
    "    bopts = mgis_bv.FiniteStrainBehaviourOptions()\n",
    "    bopts.stress_measure = mgis_bv.FiniteStrainBehaviourOptionsStressMeasure.PK2\n",
    "    bopts.tangent_operator = (\n",
    "        mgis_bv.FiniteStrainBehaviourOptionsTangentOperator.DPK1_DF\n",
    "    )\n",
    "    behaviour = mgis_bv.load(bopts, lib_path, behaviour_name, hypothesis)\n",
    "else:\n",
    "    print(\"Small strain behaviour detected.\")\n",
    "    behaviour = mgis_bv.load(lib_path, behaviour_name, hypothesis)"
   ]
  },
  {
   "cell_type": "markdown",
   "metadata": {},
   "source": [
    "The `Behaviour` object now contains several information about the behaviour implementation such as names and types of gradients and thermodynamic forces and external or internal state variables. Here, we work with a purely mechanical behaviour so that gradients consist only of the total strain `Strain`. The resulting thermodynamic stress is `Stress`. By default, `Temperature` is always declared as an external state variable by MFront. Finally, since we are dealing with an elastoplastic behaviour with isotropic hardening, the internal state variables are the `ElasticStrain` and the `EquivalentPlasticStrain`. The former is a symmetric tensor whereas the latter is only a scalar."
   ]
  },
  {
   "cell_type": "code",
   "execution_count": null,
   "metadata": {},
   "outputs": [
    {
     "name": "stdout",
     "output_type": "stream",
     "text": [
      "Kinematic type: SmallStrainKinematic\n",
      "Gradient names: ['Strain']\n",
      "Thermodynamic forces names: ['Stress']\n",
      "External state variable names: ['Temperature']\n",
      "Internal state variable names: ['ElasticStrain', 'EquivalentPlasticStrain']\n",
      "Internal state variable types: [mgis.behaviour.VariableType.STENSOR, mgis.behaviour.VariableType.SCALAR]\n"
     ]
    }
   ],
   "source": [
    "print(\"Kinematic type:\", behaviour.getKinematic())\n",
    "print(\"Gradient names:\", [s.name for s in behaviour.gradients])\n",
    "print(\"Thermodynamic forces names:\", [s.name for s in behaviour.thermodynamic_forces])\n",
    "\n",
    "print(\n",
    "    \"External state variable names:\",\n",
    "    [s.name for s in behaviour.external_state_variables],\n",
    ")\n",
    "print(\n",
    "    \"Internal state variable names:\",\n",
    "    [s.name for s in behaviour.internal_state_variables],\n",
    ")\n",
    "print(\n",
    "    \"Internal state variable types:\",\n",
    "    [s.type for s in behaviour.internal_state_variables],\n",
    ")"
   ]
  },
  {
   "cell_type": "markdown",
   "metadata": {},
   "source": [
    "The size of these different quantities can be checked. Symmetric tensors in 3D are represented here as arrays of size 6 (using Mandel notation, see [Tensors in MFront](https://thelfer.github.io/tfel/web/tensors.html))."
   ]
  },
  {
   "cell_type": "code",
   "execution_count": null,
   "metadata": {},
   "outputs": [
    {
     "name": "stdout",
     "output_type": "stream",
     "text": [
      "Strain is of size 6\n",
      "Stress is of size 6\n",
      "ElasticStrain is of size 6\n",
      "EquivalentPlasticStrain is of size 1\n"
     ]
    }
   ],
   "source": [
    "for s in behaviour.gradients + behaviour.thermodynamic_forces + behaviour.internal_state_variables: \n",
    "    print(f\"{s.name} is of size {mgis_bv.getVariableSize(s, hypothesis)}\")"
   ]
  },
  {
   "cell_type": "markdown",
   "metadata": {},
   "source": [
    "For more complex behaviours, different \"blocks\" of tangent operators can be declared and computed. The names of the tangent blocks can be retrieved as shown below. Here, we have a simple mechanical behaviour so that the only tangent operator is the tangent stiffness $\\boldsymbol{C}_\\text{tang} = \\dfrac{\\partial \\boldsymbol{\\sigma}}{\\partial \\boldsymbol{\\varepsilon}}$."
   ]
  },
  {
   "cell_type": "code",
   "execution_count": null,
   "metadata": {},
   "outputs": [
    {
     "name": "stdout",
     "output_type": "stream",
     "text": [
      "Tangent operator block names: ['dStress_dStrain']\n"
     ]
    }
   ],
   "source": [
    "print(\n",
    "    \"Tangent operator block names:\",\n",
    "    [f\"d{s[0].name}_d{s[1].name}\" for s in behaviour.tangent_operator_blocks],\n",
    ")"
   ]
  },
  {
   "cell_type": "markdown",
   "metadata": {},
   "source": [
    "Finally, names of material properties can also be retrieved easily as follows:"
   ]
  },
  {
   "cell_type": "code",
   "execution_count": null,
   "metadata": {},
   "outputs": [
    {
     "name": "stdout",
     "output_type": "stream",
     "text": [
      "Material property names: ['InitialYieldStress', 'FinalYieldStress', 'HardeningCoefficient']\n"
     ]
    }
   ],
   "source": [
    "print(\n",
    "    \"Material property names:\",\n",
    "    [s.name for s in behaviour.material_properties],\n",
    ")"
   ]
  },
  {
   "cell_type": "markdown",
   "metadata": {},
   "source": [
    "Other informations such as behaviour material symmetry or predefined parameters can also be obtained as follows:"
   ]
  },
  {
   "cell_type": "code",
   "execution_count": 7,
   "metadata": {},
   "outputs": [
    {
     "name": "stdout",
     "output_type": "stream",
     "text": [
      "Isotropic\n",
      "['epsilon', 'theta', 'YoungModulus', 'PoissonRatio', 'RelativeValueForTheEquivalentStressLowerBoundDefinition', 'minimal_time_step_scaling_factor', 'maximal_time_step_scaling_factor', 'numerical_jacobian_epsilon']\n"
     ]
    }
   ],
   "source": [
    "print(behaviour.symmetry)\n",
    "print(behaviour.parameters)"
   ]
  },
  {
   "cell_type": "markdown",
   "metadata": {},
   "source": [
    "### Setting up the material data manager\n",
    "\n",
    "The material data manager will be the data structure which will hold the information about the mechanical state and tangent operator for a single or a batch of integration points during a given time step. We first set up the data manager by declaring the number of integration points we want to handle."
   ]
  },
  {
   "cell_type": "code",
   "execution_count": 8,
   "metadata": {},
   "outputs": [],
   "source": [
    "ngauss = 3\n",
    "data = mgis_bv.MaterialDataManager(behaviour, ngauss)"
   ]
  },
  {
   "cell_type": "markdown",
   "metadata": {},
   "source": [
    "Values at the beginning of the time step will be stored in `data.s0`. This object is a `StateManager` which holds values of the gradients, thermodynamic forces and internal state variables. A similar one is stored in `data.s1` which will hold values at the end of the current time step, once behaviour integration has been performed. Here, by default, `Strain` is initialized with a zero tensor, as well as all other variables. We see below that `data.s0.gradients` is of shape `ngauss x 6` corresponding to the 6 components of the `ngauss` integration points."
   ]
  },
  {
   "cell_type": "code",
   "execution_count": 9,
   "metadata": {},
   "outputs": [
    {
     "name": "stdout",
     "output_type": "stream",
     "text": [
      "Gradients:\n",
      "  Beginning of time step:\n",
      " [[0. 0. 0. 0. 0. 0.]\n",
      " [0. 0. 0. 0. 0. 0.]\n",
      " [0. 0. 0. 0. 0. 0.]]\n",
      "  End of time step:\n",
      " [[0. 0. 0. 0. 0. 0.]\n",
      " [0. 0. 0. 0. 0. 0.]\n",
      " [0. 0. 0. 0. 0. 0.]]\n",
      "Thermodynamic forces:\n",
      "  Beginning of time step:\n",
      " [[0. 0. 0. 0. 0. 0.]\n",
      " [0. 0. 0. 0. 0. 0.]\n",
      " [0. 0. 0. 0. 0. 0.]]\n",
      "  End of time step:\n",
      " [[0. 0. 0. 0. 0. 0.]\n",
      " [0. 0. 0. 0. 0. 0.]\n",
      " [0. 0. 0. 0. 0. 0.]]\n"
     ]
    }
   ],
   "source": [
    "print(\"Gradients:\")\n",
    "print(\"  Beginning of time step:\\n\", data.s0.gradients)\n",
    "print(\"  End of time step:\\n\", data.s1.gradients)\n",
    "\n",
    "print(\"Thermodynamic forces:\")\n",
    "print(\"  Beginning of time step:\\n\", data.s0.thermodynamic_forces)\n",
    "print(\"  End of time step:\\n\", data.s1.thermodynamic_forces)"
   ]
  },
  {
   "cell_type": "markdown",
   "metadata": {},
   "source": [
    "Conversely, internal state variables are of shape `ngauss x 7` with components of `ElasticStrain` and `EquivalentPlasticStrain` being concatenated."
   ]
  },
  {
   "cell_type": "code",
   "execution_count": 10,
   "metadata": {},
   "outputs": [
    {
     "name": "stdout",
     "output_type": "stream",
     "text": [
      "Internal state variables:\n",
      "  Beginning of time step:\n",
      " [[0. 0. 0. 0. 0. 0. 0.]\n",
      " [0. 0. 0. 0. 0. 0. 0.]\n",
      " [0. 0. 0. 0. 0. 0. 0.]]\n",
      "  End of time step:\n",
      " [[0. 0. 0. 0. 0. 0. 0.]\n",
      " [0. 0. 0. 0. 0. 0. 0.]\n",
      " [0. 0. 0. 0. 0. 0. 0.]]\n"
     ]
    }
   ],
   "source": [
    "print(\"Internal state variables:\")\n",
    "print(\"  Beginning of time step:\\n\", data.s0.internal_state_variables)\n",
    "print(\"  End of time step:\\n\", data.s1.internal_state_variables)"
   ]
  },
  {
   "cell_type": "markdown",
   "metadata": {},
   "source": [
    "### Declare material properties\n",
    "\n",
    "In order to perform the behaviour integration, we need to declare the values for the material properties which are yet unspecified. We also need to declare the value of the temperature, although it is not used in practice. Note that we can declare different values at the beginning and at the end of the time step, although here we use the same values. Finally, we would also apply different values for the different integration points, if needed."
   ]
  },
  {
   "cell_type": "code",
   "execution_count": 11,
   "metadata": {},
   "outputs": [],
   "source": [
    "for state_manager in [data.s0, data.s1]:\n",
    "    mgis_bv.setMaterialProperty(state_manager, \"InitialYieldStress\", 250e6)\n",
    "    mgis_bv.setMaterialProperty(state_manager, \"FinalYieldStress\", 400e6)\n",
    "    mgis_bv.setMaterialProperty(state_manager, \"HardeningCoefficient\", 1000.)\n",
    "\n",
    "    mgis_bv.setExternalStateVariable(state_manager, \"Temperature\", 293.15)"
   ]
  },
  {
   "cell_type": "markdown",
   "metadata": {},
   "source": [
    "### Defining the load-stepping scheme and the nonlinear system \n",
    "\n",
    "Below, we will impose a cyclic loading in terms of imposed horizontal strain. The value of the time step `dt` must be provided but is irrelevant here since we are dealing with a rate-independent behaviour."
   ]
  },
  {
   "cell_type": "code",
   "execution_count": 12,
   "metadata": {},
   "outputs": [],
   "source": [
    "# strain history\n",
    "N = 20\n",
    "eps_max = 3e-3\n",
    "eps_list = np.concatenate((np.linspace(0, eps_max, N), np.linspace(eps_max, -eps_max, N), np.linspace(-eps_max, 0, N))*2)\n",
    "\n",
    "dt = 0"
   ]
  },
  {
   "cell_type": "markdown",
   "metadata": {},
   "source": [
    "We now implement the expression of the global residual $\\boldsymbol{R}$ and its jacobian $\\boldsymbol{J}$. As stresses are expressed here in Pa, we use a scaling of `1e-9` to scale the stress components to values close to strain values."
   ]
  },
  {
   "cell_type": "code",
   "execution_count": 13,
   "metadata": {},
   "outputs": [],
   "source": [
    "stress_scaling = 1e-9\n",
    "def residual(eps, sig, imposed_eps):\n",
    "    return np.concatenate((eps[:,[0]]-imposed_eps, sig[:,1:]*stress_scaling), axis=1)\n",
    "def jacobian(eps, sig, Ct):\n",
    "    Jac = np.zeros_like(Ct)\n",
    "    Jac[:,0,0] = 1\n",
    "    Jac[:,1:,:] = Ct[:,1:,:]*stress_scaling\n",
    "    return Jac"
   ]
  },
  {
   "cell_type": "markdown",
   "metadata": {},
   "source": [
    "Integration of the material behaviour will be done by specifying that we want to compute the consistent tangent operator. \n",
    "We then implement the time stepping loop and the Newton-Raphson resolution. We recall that the values of the total strain are all assumed to be unknown and will be stored in the `eps` variable, the latter being initialized with the strain values at the beginning of the time step. During a Newton-Raphson iteration, the strain values at the end of the time step are updated with the current value for `eps`. Then, integration is performed using `mgis_bv.integrate`. Next, we retrieve the new value for the stress, stored in `sig` and of the tangent operator, stored in `Ct`. We evaluate the residual $\\boldsymbol{R}$ and perform the Newton correction to `eps` by solving the jacobian system. Finally, we report the horizontal stress value at the first integration point (we can check that all `ngauss` points give the same value). Before going to the next load step, the computed state must be updated using `mgis_bv.update(data)` which copies the computed state `s1` into `s0`."
   ]
  },
  {
   "cell_type": "code",
   "execution_count": 14,
   "metadata": {},
   "outputs": [],
   "source": [
    "integration_type = mgis_bv.IntegrationType.IntegrationWithConsistentTangentOperator\n",
    "rtol = 1e-8\n",
    "atol = 1e-8\n",
    "niter_max = 20\n",
    "\n",
    "Sxx = np.zeros_like(eps_list)\n",
    "for i, eps_imposed in enumerate(eps_list):\n",
    "    eps = np.copy(data.s0.gradients)\n",
    "    sig = np.copy(data.s0.thermodynamic_forces)\n",
    "\n",
    "    # Newton-Raphson solve\n",
    "    nres = 1\n",
    "    nres0 = max(np.linalg.norm(residual(eps, sig, eps_imposed),axis=1))\n",
    "    niter = 0\n",
    "    while (nres > max(atol, rtol * nres0)) and (niter < niter_max):\n",
    "        data.s1.gradients[:] = eps\n",
    "\n",
    "        integration_status = mgis_bv.integrate(data, integration_type, dt, 0, ngauss)\n",
    "        assert integration_status > 0, \"Behaviour integration has failed.\"\n",
    "\n",
    "        sig = data.s1.thermodynamic_forces\n",
    "        Ct = data.K\n",
    "\n",
    "        res = residual(eps, sig, eps_imposed)\n",
    "        nres = max(np.linalg.norm(res, axis=1))\n",
    "        # print(f\"Iteration {niter}, residual = {nres}\")\n",
    "\n",
    "        Jac = jacobian(eps, sig, Ct)\n",
    "        for k in range(ngauss):\n",
    "            eps[k,:] += np.linalg.solve(Jac[k,:,:], -res[k,:])\n",
    "\n",
    "        niter += 1\n",
    "\n",
    "    assert niter <= niter_max, \"Newton method did not converge within maximum number of iterations.\"\n",
    "\n",
    "    Sxx[i] = data.s1.thermodynamic_forces[0, 0]\n",
    "\n",
    "    mgis_bv.update(data)"
   ]
  },
  {
   "cell_type": "markdown",
   "metadata": {},
   "source": [
    "Plotting the horizontal stress strain evolutions shows the expected behaviour with a first yielding at 250 MPa and a saturation at 400 MPa in both tension and compression."
   ]
  },
  {
   "cell_type": "code",
   "execution_count": 16,
   "metadata": {},
   "outputs": [
    {
     "data": {
      "image/png": "[encoded data removed]",
      "text/plain": [
       "<Figure size 640x480 with 1 Axes>"
      ]
     },
     "metadata": {},
     "output_type": "display_data"
    }
   ],
   "source": [
    "import matplotlib.pyplot as plt\n",
    "plt.plot(eps_list, Sxx*1e-6, '-o')\n",
    "plt.xlabel(r\"Horizontal strain $\\varepsilon_{xx}$\")\n",
    "plt.ylabel(r\"Horizontal stress $\\sigma_{xx}$ [MPa]\")\n",
    "plt.xlim(-1.2*eps_max, 1.2*eps_max)\n",
    "plt.ylim(-500, 500)\n",
    "plt.show()"
   ]
  }
 ],
 "metadata": {
  "kernelspec": {
   "display_name": "fenicsx-v0.9",
   "language": "python",
   "name": "python3"
  },
  "language_info": {
   "codemirror_mode": {
    "name": "ipython",
    "version": 3
   },
   "file_extension": ".py",
   "mimetype": "text/x-python",
   "name": "python",
   "nbconvert_exporter": "python",
   "pygments_lexer": "ipython3",
   "version": "3.11.11"
  }
 },
 "nbformat": 4,
 "nbformat_minor": 4
}
